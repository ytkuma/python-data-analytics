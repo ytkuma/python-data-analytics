{
 "cells": [
  {
   "cell_type": "code",
   "execution_count": 1,
   "id": "1b3ce647-87c7-4faf-8031-3e5bb65b6598",
   "metadata": {},
   "outputs": [
    {
     "data": {
      "text/plain": [
       "2"
      ]
     },
     "execution_count": 1,
     "metadata": {},
     "output_type": "execute_result"
    }
   ],
   "source": [
    "1+1"
   ]
  },
  {
   "cell_type": "code",
   "execution_count": 2,
   "id": "af0c9161-d28c-4c39-bd32-b9ae416de79c",
   "metadata": {},
   "outputs": [
    {
     "data": {
      "text/plain": [
       "[4, 3, 4]"
      ]
     },
     "execution_count": 2,
     "metadata": {},
     "output_type": "execute_result"
    }
   ],
   "source": [
    "names = ['spam', 'ham', 'eggs']\n",
    "lens = []\n",
    "for name in names:\n",
    "    lens.append(len(name))\n",
    "lens"
   ]
  },
  {
   "cell_type": "code",
   "execution_count": 3,
   "id": "2387f71a-9de5-4339-a15f-e5fb5dff0ce8",
   "metadata": {},
   "outputs": [
    {
     "name": "stdout",
     "output_type": "stream",
     "text": [
      "227 µs ± 6.33 µs per loop (mean ± std. dev. of 10 runs, 1,000 loops each)\n"
     ]
    }
   ],
   "source": [
    "%timeit -n 1000 -r 10 [x+x for x in range(10000)]"
   ]
  },
  {
   "cell_type": "code",
   "execution_count": 5,
   "id": "2c24a6cc-8a59-442a-b551-d27bd3bf750c",
   "metadata": {},
   "outputs": [
    {
     "name": "stdout",
     "output_type": "stream",
     "text": [
      "273 µs ± 2.68 µs per loop (mean ± std. dev. of 10 runs, 1,000 loops each)\n"
     ]
    }
   ],
   "source": [
    "%%timeit -n 1000 -r 10\n",
    "\n",
    "ret = []\n",
    "for x in range(10000):\n",
    "    ret.append(x+x)"
   ]
  },
  {
   "cell_type": "code",
   "execution_count": null,
   "id": "1985f310-3851-4338-961d-5e1ade8ec4f1",
   "metadata": {},
   "outputs": [],
   "source": []
  }
 ],
 "metadata": {
  "kernelspec": {
   "display_name": "Python 3 (ipykernel)",
   "language": "python",
   "name": "python3"
  },
  "language_info": {
   "codemirror_mode": {
    "name": "ipython",
    "version": 3
   },
   "file_extension": ".py",
   "mimetype": "text/x-python",
   "name": "python",
   "nbconvert_exporter": "python",
   "pygments_lexer": "ipython3",
   "version": "3.11.3"
  }
 },
 "nbformat": 4,
 "nbformat_minor": 5
}
